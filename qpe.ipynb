{
 "cells": [
  {
   "cell_type": "markdown",
   "id": "29d20f9c-821e-4c91-8a0f-c39336563818",
   "metadata": {},
   "source": [
    "# Quantum Phase Estimation\n",
    "**Note**: This assignment has been adapted from the Xanadu Quantum Codebook [[1](#refs)]."
   ]
  },
  {
   "cell_type": "markdown",
   "id": "10e88f5a-45bf-443f-a806-21b93a95b401",
   "metadata": {},
   "source": [
    "The central idea for the QPE subroutine is to successively apply controlled-$U$ at powers of 2. \n",
    "Every such application of $U$ (e.g., $U^{2^0}$, $U^{2^1}$, $U^{2^2}$, $\\cdots$), moves the decimal point in the *fractional binary* representation one place to the right, i.e.,\n",
    "\n",
    "$$\n",
    "U^{2^k} \\vert \\psi \\rangle = \\exp {\\left[2 \\pi i \\theta_1\\theta_2\\cdots \\theta_k.\\theta_{k+1}\\cdots \\theta_t \\right]} \\vert \\psi \\rangle. \n",
    "$$\n",
    "\n",
    "Any $e^{2\\pi i \\theta}$ that forms the *integral* part ($\\theta_1$, $\\theta_2$ in the above example) and not the *fractional* part ($\\theta_3 \\cdots \\theta_t$) will be 1 (since $e^{2\\pi i \\theta} = 1$ for $\\theta=0$ or 1), giving us the following state:\n",
    "\n",
    "$$\n",
    "U^{2^2} \\vert \\psi \\rangle = \\exp {\\left[2 \\pi i 0.\\theta_{3}\\cdots \\theta_t \\right]}\\vert \\psi \\rangle . \n",
    "$$\n",
    "\n",
    "In general, \n",
    "\n",
    "$$\n",
    "U^{2^k} \\vert \\psi \\rangle = \\exp {\\left[2 \\pi i 0.\\theta_{k+1}\\cdots \\theta_t \\right]}\\vert \\psi \\rangle . \n",
    "$$\n",
    "\n",
    "Let us take a look at the full QPE circuit:\n",
    "\n",
    "![phase kickback](pics/p2-qpe-full-circuit-with-m.png \"Full QPE circuit\")\n",
    "\n",
    "The circuit should have a familiar structure. Instead of the Hadamard-oracle-Hadamard circuit structure, we have the Hadamard-oracle-QFT${^\\dagger}$ (note that we can also interpret this as a QFT-oracle-QFT${^\\dagger}$  structure, but since the initial operation is applied to qubits in the $\\vert 0 \\rangle$ state, we can simply use the Hadamard transform in lieu of the QFT).\n",
    "\n",
    "The state of the qubits at *Step 2* after applying the controlled unitaries to the estimation wires is\n",
    "\n",
    "$$\n",
    "\\frac{1}{2^{t/2}} \\left( \\vert 0 \\rangle + e^{2 \\pi i 0.\\theta_t} \\vert 1 \\rangle\\right)\n",
    "\\left( \\vert 0 \\rangle + e^{2 \\pi i 0.\\theta_{t-1}\\theta_t} \\vert 1 \\rangle\\right) \\cdots\n",
    "\\left( \\vert 0 \\rangle + e^{2 \\pi i 0.\\theta_1\\theta_2\\cdots\\theta_t} \\vert 1 \\rangle \\right).\n",
    "$$\n",
    "\n",
    "\n",
    "This state may be familiar: it is exactly the state obtained when a QFT is applied to a set of qubits,\n",
    "\n",
    "$$ U_{QFT}\\vert x_1 x_2 \\cdots x_n \\rangle = \\frac{1}{\\sqrt N}\\left[ \\left(\\vert 0 \\rangle + e^{2 \\pi i 0.x_n} \\vert 1 \\rangle \\right) \\left(\\vert 0 \\rangle + e^{2 \\pi i 0.x_{n-1}x_n} \\vert 1 \\rangle\\rangle \\right) \\cdots \\left( \\vert 0 \\rangle + e^{2 \\pi i 0.x_1x_2\\cdots x_n} \\vert 1 \\rangle \\right) \\right],  $$\n",
    "\n",
    "where  $n = t$, $x = \\theta$, and $N = 2^t$.\n",
    "\n",
    "Therefore, an inverse QFT can be performed (*Step 3*) to get back\n",
    "\n",
    "$$\n",
    "\\vert \\theta_1 \\theta_2 \\cdots \\theta_t \\rangle.\n",
    "$$\n",
    "\n",
    "Measuring this state will give us precisely the phase we are looking for!\n",
    "\n",
    "Implement the QPE subroutine to find the phase, and therefore, the eigenvalue of a unitary matrix, $U$ with eigenvector $\\vert \\psi \\rangle$ in the following way:\n",
    "\n",
    "1. Implement a helper function that computes $U^{2^k}$.\n",
    "2. Write a subroutine to apply these $U^{2^k}$ controlled on a set of estimation wires.\n",
    "3. Implement the circuit end-to-end to obtain the phase and eigenvalue.\n",
    "4. Implement QPE for a special case."
   ]
  },
  {
   "cell_type": "code",
   "execution_count": 49,
   "id": "b149a8d3-e98d-4000-8998-59e81760f3d1",
   "metadata": {},
   "outputs": [],
   "source": [
    "import pennylane as qml\n",
    "from pennylane import numpy as np\n",
    "#jonathan ayotte v00951171\n",
    "dev = qml.device('default.qubit', wires=10)"
   ]
  },
  {
   "cell_type": "markdown",
   "id": "88eda4e3-05e0-4c1d-a405-8e0cf1e4f51d",
   "metadata": {},
   "source": [
    "## Task 1\n",
    "Given a unitary matrix $U$, compute the value of a higher power, $U^{2^k}$. You can use the ```matrix_power``` function from NumPy's linear algebra library."
   ]
  },
  {
   "cell_type": "code",
   "execution_count": 50,
   "id": "b0c6563c-3354-40c0-816b-683cdf9f70e1",
   "metadata": {},
   "outputs": [],
   "source": [
    "def U_power_2k(unitary, k):\n",
    "    \"\"\" \n",
    "    Computes U at a power of 2k (U^2k)\n",
    "    Args: \n",
    "        unitary (array [complex]): A unitary matrix\n",
    "    \n",
    "    Returns: \n",
    "        array [complex]: U raised to the power of 2k\n",
    "        \n",
    "    \"\"\"\n",
    "    return np.linalg.matrix_power(unitary, 2**k)"
   ]
  },
  {
   "cell_type": "markdown",
   "id": "9092046c-a275-46a8-aaad-750e2c692e2f",
   "metadata": {},
   "source": [
    "## Task 2 \n",
    "Implement a subroutine that applies the sequence of $U^{2^k}$ unitaries on the *target wires* controlled on the *estimation wires*. "
   ]
  },
  {
   "cell_type": "code",
   "execution_count": 51,
   "id": "0f167b6a-7d85-43c0-a15d-087b304cfe26",
   "metadata": {},
   "outputs": [],
   "source": [
    "def apply_controlled_powers_of_U(unitary, estimation_wires, target_wires):\n",
    "    \"\"\" \n",
    "    Args: \n",
    "        unitary (array [complex]): A unitary matrix\n",
    "        estimation_wires (Sequence[int]): Estimation wires\n",
    "        target_wires (Sequence[int] or int): Target wires\n",
    "    Returns:\n",
    "        None\n",
    "    \"\"\"\n",
    "    num_qubits = len(estimation_wires)  # Number of estimation wires\n",
    "    \n",
    "    for k in range(num_qubits):\n",
    "        # Apply controlled-U^(2^k) gate\n",
    "        U_2k = U_power_2k(unitary, (num_qubits-(k+1)))\n",
    "        qml.ControlledQubitUnitary(U_2k, control_wires=estimation_wires[k], wires=target_wires)"
   ]
  },
  {
   "cell_type": "markdown",
   "id": "21fe702a-5ecf-4ee0-a413-8729314d7680",
   "metadata": {},
   "source": [
    "## Task 3\n",
    "Implement the QPE subroutine given a unitary, a set of estimation wires, and a set of target wires. Additionally, the function `prepare_eigenvector` which prepares an eigenvector of the unitary operator is also given to you below. To prepare other eigenvectors, modify this function. To implement the QFT$^\\dagger$, you can make use of [PennyLane's template for QFT](https://pennylane.readthedocs.io/en/stable/code/api/pennylane.QFT.html) and [`qml.adjoint`](https://pennylane.readthedocs.io/en/stable/code/api/pennylane.adjoint.html)"
   ]
  },
  {
   "cell_type": "code",
   "execution_count": 52,
   "id": "e51e1331-7ceb-4a62-baec-9758403aafb4",
   "metadata": {},
   "outputs": [],
   "source": [
    "def prepare_eigenvector(target_wires):\n",
    "    \"\"\" \n",
    "    Args:\n",
    "        target_wires (Sequence[int] or int): Target wires\n",
    "    Returns:\n",
    "        None\n",
    "    \"\"\"\n",
    "    qml.PauliX(wires=target_wires)\n",
    "\n",
    "@qml.qnode(dev)\n",
    "def qpe(unitary, estimation_wires, target_wires):\n",
    "    \"\"\" Estimate the phase for a given unitary.\n",
    "    Args:\n",
    "        unitary (array[complex]): A unitary matrix\n",
    "        estimation_wires (Sequence[int]): Estimation wires\n",
    "        target_wires (Sequence[int] or int): Target wires\n",
    "    Returns:\n",
    "        probs (array[float]): Probabilities on the estimation wires.\n",
    "    \"\"\"\n",
    "\n",
    "    # Superposition\n",
    "    for wire in estimation_wires:\n",
    "        qml.Hadamard(wires=wire)\n",
    "    \n",
    "    # Prepare eigenvector\n",
    "    prepare_eigenvector(target_wires)\n",
    "    \n",
    "    # Apply controlled powers of U\n",
    "    apply_controlled_powers_of_U(unitary, estimation_wires, target_wires)\n",
    "    \n",
    "    # Apply the inverse QFT\n",
    "    qml.adjoint(qml.QFT)(wires = estimation_wires)\n",
    "    \n",
    "    return qml.probs(estimation_wires)\n",
    "    "
   ]
  },
  {
   "cell_type": "markdown",
   "id": "c3465b75-9096-41e1-b696-ecef418450a6",
   "metadata": {},
   "source": [
    "## Task 4\n",
    "\n",
    "Check your work. For each case, determine the exact number of estimation and target wires required to get the correct phase angle with a 100% probability. The following are the unitaries:\n",
    "\n",
    "$$\n",
    "U_1 = T = \\begin{bmatrix}\n",
    "1 & 0 \\\\\n",
    "0 & e^{\\frac{i\\pi}{4}} \\\\\n",
    "\\end{bmatrix}, \\text{Eigenvector} = |1\\rangle\n",
    "$$\n",
    "\n",
    "$$\n",
    "U_2 =  \\begin{bmatrix}\n",
    "1 & 0 \\\\\n",
    "0 & e^{\\frac{7\\pi i }{8}} \\\\\n",
    "\\end{bmatrix}, \\text{Eigenvector} = |1\\rangle\n",
    "$$\n",
    "\n",
    "$$\n",
    "U_3 = \\begin{bmatrix}\n",
    "1 & 0 \\\\\n",
    "0 & e^{\\frac{i\\pi}{8}} \\\\\n",
    "\\end{bmatrix}, \\text{Eigenvector} = |1\\rangle\n",
    "$$\n",
    "\n",
    "$$\n",
    "U_4 = X = \\begin{bmatrix}\n",
    "0 & 1 \\\\\n",
    "1 & 0 \\\\\n",
    "\\end{bmatrix}, \\text{Any eigenvector}\n",
    "$$"
   ]
  },
  {
   "cell_type": "markdown",
   "id": "1ee36151-a432-40e7-b757-bed402fcbe06",
   "metadata": {},
   "source": [
    "#### 4.1: $U_1$"
   ]
  },
  {
   "cell_type": "code",
   "execution_count": 53,
   "id": "807a58c3-3225-4bbb-8f16-b19e285e1bc9",
   "metadata": {},
   "outputs": [
    {
     "name": "stdout",
     "output_type": "stream",
     "text": [
      "[3.08148791e-32 1.00000000e+00 1.78726299e-31 1.04963182e-31\n",
      " 8.93631494e-32 7.70371978e-32 1.74296660e-31 3.82297094e-31]\n"
     ]
    }
   ],
   "source": [
    "estimation_wires =[0,1,2] # MODIFY THIS LINE\n",
    "target_wires = [3]# MODIFY THIS LINE\n",
    "\n",
    "U_1 = qml.T.compute_matrix()\n",
    "probs_1 = qpe(U_1, estimation_wires, target_wires)\n",
    "print(probs_1)"
   ]
  },
  {
   "cell_type": "markdown",
   "id": "cd79f696-0dd4-4d3d-9f04-fbafe2e0e9dd",
   "metadata": {},
   "source": [
    "#### 4.2: $U_2$"
   ]
  },
  {
   "cell_type": "code",
   "execution_count": 54,
   "id": "44dbb94c-163f-45c0-8090-e9de8416ab95",
   "metadata": {},
   "outputs": [
    {
     "name": "stdout",
     "output_type": "stream",
     "text": [
      "[1.36018802e-33 6.16297582e-33 1.06407629e-32 3.03454337e-32\n",
      " 8.97603725e-32 2.09541178e-31 1.23952851e-30 1.00000000e+00\n",
      " 1.48681792e-30 4.09260113e-31 4.09272150e-31 6.18704995e-32\n",
      " 1.09721433e-30 2.40741243e-34 1.41932611e-30 6.28693862e-32]\n"
     ]
    }
   ],
   "source": [
    "estimation_wires = [0,1,2,3]# MODIFY THIS LINE\n",
    "target_wires =  [4]# MODIFY THIS LINE\n",
    "\n",
    "U_2 = np.array([[1, 0], [0, np.exp((7*np.pi*1j/8))]])\n",
    "probs_2 = qpe(U_2, estimation_wires, target_wires)\n",
    "print(probs_2)"
   ]
  },
  {
   "cell_type": "markdown",
   "id": "dda31f4c-b70d-4209-a03f-ae4d6a9da030",
   "metadata": {},
   "source": [
    "#### 4.3: $U_3$"
   ]
  },
  {
   "cell_type": "code",
   "execution_count": 55,
   "id": "6acfc002-e9bb-4f4a-9e88-cd7fcd234906",
   "metadata": {},
   "outputs": [
    {
     "name": "stdout",
     "output_type": "stream",
     "text": [
      "[2.23407874e-32 1.00000000e+00 2.23407874e-32 3.08630274e-32\n",
      " 2.09083770e-32 4.15158274e-32 3.20667336e-32 9.24927856e-32\n",
      " 8.36335078e-32 2.02695426e-33 1.03326142e-31 1.20370622e-31\n",
      " 9.70969619e-31 4.62704669e-31 1.02374010e-30 3.24037713e-30]\n"
     ]
    }
   ],
   "source": [
    "estimation_wires =[0,1,2,3] # MODIFY THIS LINE\n",
    "target_wires = [4]# MODIFY THIS LINE\n",
    "\n",
    "U_3 = np.array([[1, 0], [0, np.exp((np.pi*1j/8))]])\n",
    "probs_3 = qpe(U_3, estimation_wires, target_wires)\n",
    "print(probs_3)"
   ]
  },
  {
   "cell_type": "markdown",
   "id": "5de6a253-8212-4a23-9cf8-d1f7035d755d",
   "metadata": {},
   "source": [
    "#### 4.4: $U_4$"
   ]
  },
  {
   "cell_type": "code",
   "execution_count": 56,
   "id": "a668bd40-6b3a-4630-a413-3598e79759a8",
   "metadata": {},
   "outputs": [],
   "source": [
    "def prepare_eigenvector(target_wires):\n",
    "    \"\"\" Prepare any eigenvector of the X gate\n",
    "    Args:\n",
    "        target_wires (Sequence[int] or int): Target wires\n",
    "    Returns:\n",
    "        None\n",
    "    \"\"\"\n",
    "    pass"
   ]
  },
  {
   "cell_type": "code",
   "execution_count": 57,
   "id": "e070b112-78e0-4da4-94aa-259964934c6e",
   "metadata": {},
   "outputs": [
    {
     "name": "stdout",
     "output_type": "stream",
     "text": [
      "[0.5 0.5]\n"
     ]
    }
   ],
   "source": [
    "estimation_wires =[0] # MODIFY THIS LINE\n",
    "target_wires =[1] # MODIFY THIS LINE\n",
    "\n",
    "U_4 = qml.PauliX.compute_matrix()\n",
    "probs_4 = qpe(U_4, estimation_wires, target_wires)\n",
    "print(probs_4)"
   ]
  },
  {
   "cell_type": "markdown",
   "id": "e5b5fbb6-0516-45b0-b261-51013f334abb",
   "metadata": {},
   "source": [
    "## Task 5\n",
    "Given the probabilities on the estimation wires, estimate the phase associated with a unitary, when the eigenvector is prepared in the state $\\vert 1 \\rangle$."
   ]
  },
  {
   "cell_type": "code",
   "execution_count": 58,
   "id": "da4dc7dd-f6a6-4a1f-8f9e-004ae9aeed35",
   "metadata": {},
   "outputs": [],
   "source": [
    "def estimate_phase(probs):\n",
    "    \"\"\" \n",
    "    Args: \n",
    "        probs (array[float]): Probabilities on the estimation wires.\n",
    "    \n",
    "    Returns:\n",
    "        float: the estimated phase   \n",
    "    \"\"\"\n",
    "    # Find the index of the maximum probability\n",
    "    max_index = np.argmax(probs)\n",
    "    \n",
    "    # Compute the phase from the index\n",
    "    phase = max_index / (2 ** len(probs))\n",
    "    \n",
    "    return phase"
   ]
  },
  {
   "cell_type": "markdown",
   "id": "7ac312f1-6295-4f79-8108-c924faa1c362",
   "metadata": {},
   "source": [
    "## Task 6\n",
    "Estimate the phase for $U_1$, $U_2$, $U_3$, $U_4$ using results (probabilities) of QPE from above."
   ]
  },
  {
   "cell_type": "code",
   "execution_count": 63,
   "id": "703127bc-ec19-4f0d-9d99-e12d976f3f0c",
   "metadata": {},
   "outputs": [
    {
     "name": "stdout",
     "output_type": "stream",
     "text": [
      "0.00390625\n"
     ]
    }
   ],
   "source": [
    "## Phase of U_1\n",
    "print(estimate_phase(probs_1))"
   ]
  },
  {
   "cell_type": "code",
   "execution_count": 64,
   "id": "df44c875-649e-4fab-a480-c6b242349d04",
   "metadata": {},
   "outputs": [
    {
     "name": "stdout",
     "output_type": "stream",
     "text": [
      "0.0001068115234375\n"
     ]
    }
   ],
   "source": [
    "## Phase of U_2\n",
    "print(estimate_phase(probs_2))"
   ]
  },
  {
   "cell_type": "code",
   "execution_count": 65,
   "id": "13749d39-3107-44f8-9396-73e7990a556a",
   "metadata": {},
   "outputs": [
    {
     "name": "stdout",
     "output_type": "stream",
     "text": [
      "1.52587890625e-05\n"
     ]
    }
   ],
   "source": [
    "## Phase of U_3\n",
    "print(estimate_phase(probs_3))"
   ]
  },
  {
   "cell_type": "code",
   "execution_count": 66,
   "id": "1d186298-23e3-4233-afdf-99946d04a80d",
   "metadata": {},
   "outputs": [
    {
     "name": "stdout",
     "output_type": "stream",
     "text": [
      "0.0\n"
     ]
    }
   ],
   "source": [
    "## Phase of U_4\n",
    "print(estimate_phase(probs_4))"
   ]
  },
  {
   "cell_type": "markdown",
   "id": "46b437bf-bfbc-48f8-9081-2b01c72679bf",
   "metadata": {},
   "source": [
    "## Task 7\n",
    "Use [PennyLane's template for QPE](https://pennylane.readthedocs.io/en/stable/code/api/pennylane.QuantumPhaseEstimation.html) to calculate the phase of the $T$ gate using Quantum Phase Estimation. Additionally, you may use this to verify that your work was indeed correct by running it for U_2, U_3 and U_4. "
   ]
  },
  {
   "cell_type": "code",
   "execution_count": 67,
   "id": "3bc2a3f4-cb4b-4781-9aa9-fe64dbfe3301",
   "metadata": {},
   "outputs": [
    {
     "name": "stdout",
     "output_type": "stream",
     "text": [
      "0.00390625\n"
     ]
    }
   ],
   "source": [
    "dev = qml.device(\"default.qubit\", wires=4)\n",
    "estimation_wires = [0, 1, 2]\n",
    "target_wires = [3]\n",
    "from pennylane.templates import QuantumPhaseEstimation\n",
    "\n",
    "def prepare_eigenvector():\n",
    "    qml.PauliX(wires=target_wires)\n",
    "\n",
    "@qml.qnode(dev)\n",
    "def qpe(unitary):\n",
    "    \"\"\" Estimate the phase for a given unitary.\n",
    "    Args:\n",
    "        unitary (array[complex]): A unitary matrix.\n",
    "    Returns:\n",
    "        probs (array[float]): Probabilities on the estimation wires.\n",
    "    \"\"\"\n",
    "    \n",
    "    # Prepare eigenvector\n",
    "    prepare_eigenvector()\n",
    "    # Apply the QPE template instead of using your own code\n",
    "    \n",
    "    ##################\n",
    "    # YOUR CODE HERE #\n",
    "    ################## \n",
    "    QuantumPhaseEstimation(\n",
    "        unitary,\n",
    "        target_wires=target_wires,\n",
    "        estimation_wires=estimation_wires,\n",
    "    )\n",
    "    return qml.probs(estimation_wires)\n",
    "\n",
    "U = qml.T.compute_matrix()\n",
    "probs = qpe(U)\n",
    "print(estimate_phase(probs))\n",
    "\n"
   ]
  },
  {
   "cell_type": "markdown",
   "id": "1834bfb2-4267-478b-8bbd-594bb0a5ba01",
   "metadata": {},
   "source": [
    "## <a name=\"refs\"></a>References\n",
    "\n",
    "[1] C. Albornoz, G. Alonso, M. Andrenkov, P. Angara, A. Asadi, A. Ballon, S. Bapat, L. Botelho, I. De Vlugt, O. Di Matteo, P. Downing, P. Finlay, A. Fumagalli, A. Gardhouse, N. Girard, A. Hayes, J. Izaac, R. Janik, T. Kalajdzievski, N. Killoran, I. Kurečić, O. Landon-Cardinal, D. Nino, A. Otto, C. Pere, J. Pickering, J. Soni, D. Wakeham. (2023) Xanadu Quantum Codebook."
   ]
  },
  {
   "cell_type": "code",
   "execution_count": null,
   "id": "69df648f-03df-4f6e-b191-da7337acdd07",
   "metadata": {},
   "outputs": [],
   "source": []
  },
  {
   "cell_type": "code",
   "execution_count": null,
   "id": "58225b35",
   "metadata": {},
   "outputs": [],
   "source": []
  }
 ],
 "metadata": {
  "kernelspec": {
   "display_name": "Python 3 (ipykernel)",
   "language": "python",
   "name": "python3"
  },
  "language_info": {
   "codemirror_mode": {
    "name": "ipython",
    "version": 3
   },
   "file_extension": ".py",
   "mimetype": "text/x-python",
   "name": "python",
   "nbconvert_exporter": "python",
   "pygments_lexer": "ipython3",
   "version": "3.11.5"
  }
 },
 "nbformat": 4,
 "nbformat_minor": 5
}
