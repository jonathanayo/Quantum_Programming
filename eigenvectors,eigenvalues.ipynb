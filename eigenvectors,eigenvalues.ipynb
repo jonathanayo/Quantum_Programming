{
 "cells": [
  {
   "cell_type": "code",
   "execution_count": 1,
   "id": "6329cc90",
   "metadata": {},
   "outputs": [
    {
     "name": "stdout",
     "output_type": "stream",
     "text": [
      "Eigenvalues of CX gate: [ 1. -1.  1.  1.]\n",
      "Eigenvectors of CX gate: [[ 0.          0.          1.          0.        ]\n",
      " [ 0.          0.          0.          1.        ]\n",
      " [ 0.70710678 -0.70710678  0.          0.        ]\n",
      " [ 0.70710678  0.70710678  0.          0.        ]]\n"
     ]
    }
   ],
   "source": [
    "#Jonathan Ayotte v00951171\n",
    "import numpy as np\n",
    "\n",
    "# Define the CX gate matrix\n",
    "CX = np.array([[1, 0, 0, 0],\n",
    "               [0, 1, 0, 0],\n",
    "               [0, 0, 0, 1],\n",
    "               [0, 0, 1, 0]])\n",
    "\n",
    "# Calculate eigenvectors and eigenvalues\n",
    "eigenvalues_cx, eigenvectors_cx = np.linalg.eig(CX)\n",
    "\n",
    "print(\"Eigenvalues of CX gate:\", eigenvalues_cx)\n",
    "print(\"Eigenvectors of CX gate:\", eigenvectors_cx)"
   ]
  },
  {
   "cell_type": "code",
   "execution_count": 2,
   "id": "7cfc5f64",
   "metadata": {},
   "outputs": [
    {
     "name": "stdout",
     "output_type": "stream",
     "text": [
      "Eigenvalues of Hadamard gate: [ 1. -1.]\n",
      "Eigenvectors of Hadamard gate: [[ 0.92387953 -0.38268343]\n",
      " [ 0.38268343  0.92387953]]\n"
     ]
    }
   ],
   "source": [
    "\n",
    "\n",
    "# Define the Hadamard gate matrix\n",
    "H = np.array([[1, 1], [1, -1]]) / np.sqrt(2)\n",
    "\n",
    "# Calculate eigenvectors and eigenvalues\n",
    "eigenvalues_h, eigenvectors_h = np.linalg.eig(H)\n",
    "\n",
    "print(\"Eigenvalues of Hadamard gate:\", eigenvalues_h)\n",
    "print(\"Eigenvectors of Hadamard gate:\", eigenvectors_h)"
   ]
  },
  {
   "cell_type": "code",
   "execution_count": 3,
   "id": "9b817ce9",
   "metadata": {},
   "outputs": [
    {
     "name": "stdout",
     "output_type": "stream",
     "text": [
      "Eigenvalues of S matrix: [1.000000e+00+0.j 6.123234e-17+1.j]\n",
      "Eigenvectors of S matrix: [[1.+0.j 0.+0.j]\n",
      " [0.+0.j 1.+0.j]]\n"
     ]
    }
   ],
   "source": [
    "# Define the S matrix\n",
    "S = np.array([[1, 0], [0, np.exp(1j * np.pi / 2)]])\n",
    "\n",
    "# Calculate eigenvectors and eigenvalues\n",
    "eigenvalues_s, eigenvectors_s = np.linalg.eig(S)\n",
    "\n",
    "print(\"Eigenvalues of S matrix:\", eigenvalues_s)\n",
    "print(\"Eigenvectors of S matrix:\", eigenvectors_s)"
   ]
  },
  {
   "cell_type": "code",
   "execution_count": null,
   "id": "fab9644e",
   "metadata": {},
   "outputs": [],
   "source": []
  }
 ],
 "metadata": {
  "kernelspec": {
   "display_name": "Python 3 (ipykernel)",
   "language": "python",
   "name": "python3"
  },
  "language_info": {
   "codemirror_mode": {
    "name": "ipython",
    "version": 3
   },
   "file_extension": ".py",
   "mimetype": "text/x-python",
   "name": "python",
   "nbconvert_exporter": "python",
   "pygments_lexer": "ipython3",
   "version": "3.11.5"
  }
 },
 "nbformat": 4,
 "nbformat_minor": 5
}
