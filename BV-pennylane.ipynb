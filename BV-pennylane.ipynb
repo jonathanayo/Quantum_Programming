{
 "cells": [
  {
   "cell_type": "markdown",
   "id": "f1cf7582",
   "metadata": {},
   "source": [
    "# The Parity Problem\n",
    "You are given a function as a black box: $ f: \\{0, 1\\}^n \\rightarrow \\{0, 1\\}$ and $f(x) = u.x \\mod2$.\n",
    "\n",
    "For some hidden $u \\in \\{0, 1\\}^n$, find $u$ with as few queries as possible. This is a restricted version of the Deutsch–Jozsa algorithm where instead of distinguishing between two different classes of functions, it tries to learn a string encoded in a function. "
   ]
  },
  {
   "cell_type": "markdown",
   "id": "c3510c31",
   "metadata": {},
   "source": [
    "## A classical solution"
   ]
  },
  {
   "cell_type": "markdown",
   "id": "1b1dd71f",
   "metadata": {},
   "source": [
    "![Classical Solution](bv.PNG \"A classical solution the parity problem\")"
   ]
  },
  {
   "cell_type": "markdown",
   "id": "98650d71",
   "metadata": {},
   "source": [
    "We need $n$ queries to compute the hidden string, because each time you run this circuit, you get only one bit of information. \n",
    "For example: let the hidden string $u = 101 $.\n",
    "\n",
    "$$ f(100) = 1 $$ \n",
    "\n",
    "$$ f(010) = 0 $$\n",
    "\n",
    "$$ f(001) = 1 $$\n",
    "\n",
    "One possible solution to implement this classically is to use a classical AND gate as a mask to get each bit of information. "
   ]
  },
  {
   "cell_type": "markdown",
   "id": "64e75ace",
   "metadata": {},
   "source": [
    "## The Bernstein-Vazirani Algorithm\n",
    "In contrast to the classical solution, the quantum solution requires only one query to find the hidden $u$. This algorithm was invented by Ethan Bernstein and Umesh Vazirani in 1992. Your task is to implement this algorithm in Q#. You can read more about the algorithm [here](https://en.wikipedia.org/wiki/Bernstein%E2%80%93Vazirani_algorithm).\n",
    "![Quantum Solution](bv-q.PNG \"A quantum solution the parity problem\")\n",
    "\n",
    "The Bernstein-Vazirani algorithm is described as follows:\n",
    "1. Initialize n query qubits in the state $|0\\rangle$ and one answer qubit in the state $|-\\rangle$\n",
    "2. Apply the Hadamard Transform to an n-qubit query state to get $H|0\\rangle^{\\otimes n} =  \\frac{1}{2^{n/2}} \\sum_x |x> $.\n",
    "3. Apply the oracle $U_f$ which transforms the state to  $\\frac{1}{2^{n/2}} \\sum_x (-1)^{u.x} |x> $\n",
    "4. Apply the Hadamard Transform to the query state after the oracle is applied.\n",
    "5. Measure in the computational basis."
   ]
  },
  {
   "cell_type": "code",
   "execution_count": 8,
   "id": "1d68b3e2-c2c9-45fb-a6b7-b7f2ce0522cd",
   "metadata": {},
   "outputs": [],
   "source": [
    "import pennylane as qml"
   ]
  },
  {
   "cell_type": "markdown",
   "id": "12865207",
   "metadata": {},
   "source": [
    "## Task 1\n",
    "**Summary**\n",
    "\n",
    "Prepare qubits in a uniform superposition. For this, use [qml.broadcast](https://docs.pennylane.ai/en/stable/code/api/pennylane.broadcast.html), instead of a loop. This allows us to apply a unitary multiple times to a specific pattern of wires.\n",
    "\n",
    "**Input**\n",
    "\n",
    "*query_wires*: an array of numbers representing the query wires\n",
    "\n",
    "Apply the hadamard transform the query_wires. \n"
   ]
  },
  {
   "cell_type": "code",
   "execution_count": 9,
   "id": "6b59c547",
   "metadata": {},
   "outputs": [],
   "source": [
    "def walshHadamardTransform(query_wires):\n",
    "    qml.broadcast(unitary=qml.Hadamard, wires=query_wires, pattern=\"single\")"
   ]
  },
  {
   "cell_type": "markdown",
   "id": "f877ffd3",
   "metadata": {},
   "source": [
    "## Task 2\n",
    "**Summary**\n",
    "\n",
    "Prepare the answer wire (traditionally, the last qubit on our device) in the state $|-\\rangle$\n",
    "\n",
    "**Input**\n",
    "\n",
    "*answer_wire*: the answer qubit"
   ]
  },
  {
   "cell_type": "code",
   "execution_count": 10,
   "id": "7bf85715",
   "metadata": {},
   "outputs": [],
   "source": [
    "def prepareAnswerQubit(answer_wire):\n",
    "    qml.PauliX(wires=answer_wire)\n",
    "    qml.Hadamard(wires=answer_wire)"
   ]
  },
  {
   "cell_type": "markdown",
   "id": "c4c067ea",
   "metadata": {},
   "source": [
    "## Task 3\n",
    "\n",
    "**Summary**\n",
    "\n",
    "Encode the secret string (supplied as a boolean array s) into a function $U_f$\n",
    "\n",
    "**Input**: \n",
    "query_wires: qubit array\n",
    "answer_wire: answer qubit\n",
    "secret: secret string as a boolean array e.g. [True, False, True, True]\n"
   ]
  },
  {
   "cell_type": "code",
   "execution_count": 11,
   "id": "c5a9091a",
   "metadata": {},
   "outputs": [],
   "source": [
    "def Uf(query_wires, answer_wire, secret):\n",
    "    for i, s in enumerate(secret):\n",
    "        if s:  # If the secret bit is True/1, apply CNOT with the query wire as control and answer wire as target\n",
    "            qml.CNOT(wires=[query_wires[i], answer_wire])"
   ]
  },
  {
   "cell_type": "markdown",
   "id": "26effd64",
   "metadata": {},
   "source": [
    "## Task 4: Explain what gates you applied to create the encoded string as $U_f$ and why you applied them."
   ]
  },
  {
   "cell_type": "markdown",
   "id": "b917aeaa",
   "metadata": {},
   "source": [
    "\n",
    "To encode the secret string into the function Uf, I apply Controlled-NOT (CNOT) gates.\n",
    "A CNOT gate flips the state of the target qubit if and only if the control qubit is in the state |1⟩.\n",
    "In this case, the control qubits are the query qubits, and the target qubit is the answer qubit.\n",
    "So, for each bit in the secret string that is True, we apply a CNOT gate controlled by the corresponding query qubit, \n",
    "targeting the answer qubit. This effectively encodes the secret string into the function Uf.\n"
   ]
  },
  {
   "cell_type": "markdown",
   "id": "dd3af85c",
   "metadata": {},
   "source": [
    "## Task 5: Run the Bernstein-Vazirani Algorithm using operations defined above\n",
    "\n",
    "1. Create the secret string, and the required qubits\n",
    "1. Perform the Bernstein Vazirani algorithm by using the tasks above. \n",
    "1. Return probabilities on the query_wires.\n"
   ]
  },
  {
   "cell_type": "code",
   "execution_count": 12,
   "id": "64050813-0462-456e-a9cf-bda99dd87167",
   "metadata": {},
   "outputs": [],
   "source": [
    "# Change the secret string to encode a string of your choice\n",
    "secret_string = [True, False, False, True]\n",
    "\n",
    "query_wires = range(len(secret_string))\n",
    "answer_wire = len(secret_string)\n",
    "\n",
    "dev = qml.device('default.qubit', wires=(len(secret_string) + 1), shots=1024) # + 1 for the answer wire"
   ]
  },
  {
   "cell_type": "code",
   "execution_count": 13,
   "id": "0beffbd5",
   "metadata": {},
   "outputs": [],
   "source": [
    "@qml.qnode(dev)\n",
    "def BernsteinVazirani(query_wires, answer_wire, secret_string):\n",
    "    query_wires = range(len(secret_string))\n",
    "    answer_wire = len(secret_string)\n",
    "\n",
    "    # Step 1: Apply Hadamard transform to all query wires to prepare them in a superposition state\n",
    "    walshHadamardTransform(query_wires)\n",
    "\n",
    "    # Step 2: Prepare the answer qubit in the |-> state\n",
    "    prepareAnswerQubit(answer_wire)\n",
    "\n",
    "    # Step 3: Apply the oracle function Uf\n",
    "    Uf(query_wires, answer_wire, secret_string)\n",
    "\n",
    "    # Step 4: Apply Hadamard again to the query wires\n",
    "    walshHadamardTransform(query_wires)\n",
    "\n",
    "    # Step 5: Measure the query wires to find the secret string\n",
    "    return qml.counts(wires=query_wires)\n"
   ]
  },
  {
   "cell_type": "markdown",
   "id": "12309d13-19d2-4c03-8fde-e12252755db5",
   "metadata": {},
   "source": [
    "### Check whether your answer corresponds to the secret string"
   ]
  },
  {
   "cell_type": "code",
   "execution_count": 14,
   "id": "5ec58fe0",
   "metadata": {},
   "outputs": [
    {
     "data": {
      "text/plain": [
       "{'1001': tensor(1024, dtype=int64, requires_grad=True)}"
      ]
     },
     "execution_count": 14,
     "metadata": {},
     "output_type": "execute_result"
    }
   ],
   "source": [
    "BernsteinVazirani(query_wires, answer_wire, secret_string)"
   ]
  },
  {
   "cell_type": "code",
   "execution_count": null,
   "id": "a5d84145",
   "metadata": {},
   "outputs": [],
   "source": []
  },
  {
   "cell_type": "code",
   "execution_count": null,
   "id": "ef953b56-ddb1-4477-ab63-c561698cdf3b",
   "metadata": {},
   "outputs": [],
   "source": []
  },
  {
   "cell_type": "code",
   "execution_count": null,
   "id": "59335f05",
   "metadata": {},
   "outputs": [],
   "source": []
  },
  {
   "cell_type": "code",
   "execution_count": null,
   "id": "862c5763",
   "metadata": {},
   "outputs": [],
   "source": []
  },
  {
   "cell_type": "code",
   "execution_count": null,
   "id": "ca5afa16",
   "metadata": {},
   "outputs": [],
   "source": []
  }
 ],
 "metadata": {
  "kernelspec": {
   "display_name": "Python 3 (ipykernel)",
   "language": "python",
   "name": "python3"
  },
  "language_info": {
   "codemirror_mode": {
    "name": "ipython",
    "version": 3
   },
   "file_extension": ".py",
   "mimetype": "text/x-python",
   "name": "python",
   "nbconvert_exporter": "python",
   "pygments_lexer": "ipython3",
   "version": "3.11.5"
  }
 },
 "nbformat": 4,
 "nbformat_minor": 5
}
