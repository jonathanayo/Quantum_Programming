{
 "cells": [
  {
   "cell_type": "markdown",
   "id": "86f073cd-8dca-4a66-9631-c81b51201dc7",
   "metadata": {},
   "source": [
    "# Variational Quantum Eigensolver\n",
    "\n",
    "Use VQE to find the lowest eigenvalues of the following observables.\n",
    "\n",
    "$$\\hat{O}_1 = Z\n",
    "$$ \n",
    "\n",
    "$$\n",
    "\\hat{O}_2 = 2X\n",
    "$$ \n",
    "\n",
    "$$\n",
    "\\hat{O}_3 = X + 2Y + Z\n",
    "$$"
   ]
  },
  {
   "cell_type": "code",
   "execution_count": 356,
   "id": "31333b99-64ae-48f3-9b4e-19c88e1f5ecd",
   "metadata": {
    "ExecuteTime": {
     "end_time": "2024-03-14T15:18:43.682659500Z",
     "start_time": "2024-03-14T15:18:40.308828100Z"
    }
   },
   "outputs": [],
   "source": [
    "from qiskit.quantum_info import SparsePauliOp\n",
    "from qiskit.circuit import QuantumCircuit, ParameterVector, Parameter\n",
    "import numpy as np\n",
    "from qiskit.primitives import Sampler, Estimator\n",
    "from qiskit import QuantumCircuit"
   ]
  },
  {
   "cell_type": "markdown",
   "id": "15592bae-4718-4bc6-9ae1-67c6e3731195",
   "metadata": {},
   "source": [
    "## Task 1\n",
    "\n",
    "Prepare the observables $\\hat{O}_1$, $\\hat{O}_2$, and $\\hat{O}_3$ using [SparsePauliOp](https://docs.quantum.ibm.com/api/qiskit/qiskit.quantum_info.SparsePauliOp)"
   ]
  },
  {
   "cell_type": "code",
   "execution_count": 357,
   "id": "ccc554b2-60ce-4b2c-9aa7-83fbe546c220",
   "metadata": {},
   "outputs": [
    {
     "name": "stdout",
     "output_type": "stream",
     "text": [
      "SparsePauliOp(['X', 'Y', 'Z'],\n",
      "              coeffs=[1.+0.j, 2.+0.j, 1.+0.j])\n"
     ]
    }
   ],
   "source": [
    "# Define the Pauli strings and coefficients for Observable 1\n",
    "labels_1 = ['Z']\n",
    "coeffs_1 = [1.0]\n",
    "\n",
    "# Define the Pauli strings and coefficients for Observable 2\n",
    "labels_2 = ['X']\n",
    "coeffs_2 = [2.0]\n",
    "\n",
    "# Define the Pauli strings and coefficients for Observable 3\n",
    "labels_3 = ['X', 'Y', 'Z']\n",
    "coeffs_3 = [1.0, 2.0, 1.0]\n",
    "\n",
    "# Create SparsePauliOp instances for each observable\n",
    "observable_1 = SparsePauliOp(labels_1, coeffs_1)\n",
    "observable_2 = SparsePauliOp(labels_2, coeffs_2)\n",
    "observable_3 = SparsePauliOp(labels_3, coeffs_3)\n",
    "\n",
    "print(observable_3)"
   ]
  },
  {
   "cell_type": "markdown",
   "id": "f0e8b646-be6b-4698-93a1-48b90105b67d",
   "metadata": {},
   "source": [
    "## Task 2\n",
    "\n",
    "Create the cost function that runs the vqe circuit and computes the expectation values. You may use the [`estimator.run()`](https://docs.quantum.ibm.com/api/qiskit/qiskit.primitives.Estimator) method from the Estimator primitive to calculate the cost. "
   ]
  },
  {
   "cell_type": "code",
   "execution_count": 358,
   "id": "ada4f06b-9a0e-4e6f-850b-13cf755acccd",
   "metadata": {
    "ExecuteTime": {
     "end_time": "2024-03-14T15:19:18.243307300Z",
     "start_time": "2024-03-14T15:19:15.734524200Z"
    }
   },
   "outputs": [],
   "source": [
    "def cost_func_vqe(params, ansatz, hamiltonian, estimator):\n",
    "    \"\"\"Return estimate of energy from estimator\n",
    "\n",
    "    Parameters:\n",
    "        params (ndarray): Array of ansatz parameters\n",
    "        ansatz (QuantumCircuit): Parameterized ansatz circuit\n",
    "        hamiltonian (SparsePauliOp): Operator representation of Hamiltonian\n",
    "        estimator (Estimator): Estimator primitive instance\n",
    "\n",
    "    Returns:\n",
    "        float: Energy (cost) estimate\n",
    "    \"\"\"\n",
    "    \n",
    "    # Update ansatz parameters with current params\n",
    "    bound_circuit = ansatz.assign_parameters(dict(zip(ansatz.parameters, params)))\n",
    "    \n",
    "    # Run the bound circuit to get the expectation value\n",
    "    result = estimator.run(bound_circuit, hamiltonian).result()\n",
    "    \n",
    "    # Get the expectation value from the result\n",
    "    expectation_value = result.values[0]\n",
    "    \n",
    "    return expectation_value"
   ]
  },
  {
   "cell_type": "markdown",
   "id": "dcedf512-fd98-4a36-9ba8-780c432cd6f4",
   "metadata": {},
   "source": [
    "\n",
    "\n",
    "Prepare the ansatz. Note that your ansatz can be any gate with rotation angles. The RX variational form has been given to you as an example. You may use RX, RY, RZ, or a combination of them or the [U Gate](https://docs.quantum.ibm.com/api/qiskit/qiskit.circuit.library.UGate) that takes in three parameters."
   ]
  },
  {
   "cell_type": "code",
   "execution_count": 359,
   "id": "7c3ca25b-f5a4-4a7b-b9be-004a6c75ee30",
   "metadata": {
    "ExecuteTime": {
     "end_time": "2024-03-14T15:19:23.762510200Z",
     "start_time": "2024-03-14T15:19:22.196585100Z"
    }
   },
   "outputs": [
    {
     "data": {
      "image/png": "[encoded data removed]",
      "text/plain": [
       "<Figure size 185.453x117.056 with 1 Axes>"
      ]
     },
     "execution_count": 359,
     "metadata": {},
     "output_type": "execute_result"
    }
   ],
   "source": [
    "a = Parameter('a')\n",
    "variational_form = QuantumCircuit(1)\n",
    "variational_form.rx(a, 0)\n",
    "ansatz = variational_form\n",
    "\n",
    "ansatz.decompose().draw('mpl')"
   ]
  },
  {
   "cell_type": "markdown",
   "id": "73eb158f-e162-46b0-bfd4-3291eedd8427",
   "metadata": {},
   "source": [
    "#### Initialize the estimator"
   ]
  },
  {
   "cell_type": "code",
   "execution_count": 360,
   "id": "38a71a65-ed22-4f26-a3a0-b2a3c7f0f7d7",
   "metadata": {
    "ExecuteTime": {
     "end_time": "2024-03-14T15:20:54.052094400Z",
     "start_time": "2024-03-14T15:20:53.990555400Z"
    }
   },
   "outputs": [],
   "source": [
    "estimator = Estimator()"
   ]
  },
  {
   "cell_type": "markdown",
   "id": "cbd7f864-646c-48cf-b9e9-b4cb972e4d7f",
   "metadata": {},
   "source": [
    "## Task 3\n",
    "\n",
    "Prepare an initial set of parameters. The length of this array shound be the same as the number of parameters that your ansatz uses. For example, if your ansatz is just the $RX$ gate, then you only need one parameter. "
   ]
  },
  {
   "cell_type": "code",
   "execution_count": 361,
   "id": "a42c9f00-2614-4961-8225-be6cdc74729a",
   "metadata": {
    "ExecuteTime": {
     "end_time": "2024-03-14T15:20:57.743404900Z",
     "start_time": "2024-03-14T15:20:57.708613800Z"
    }
   },
   "outputs": [
    {
     "data": {
      "text/plain": [
       "array([0.])"
      ]
     },
     "execution_count": 361,
     "metadata": {},
     "output_type": "execute_result"
    }
   ],
   "source": [
    "import numpy as np\n",
    "\n",
    "x0 = np.array([0.0])# MODIFY THIS LINE\n",
    "x0"
   ]
  },
  {
   "cell_type": "markdown",
   "id": "24da46b8-0ecf-48a8-9770-7a70c49fd093",
   "metadata": {},
   "source": [
    "## Task 4\n",
    "\n",
    "Minimize the cost function to calculate optimal parameters. You can use [scipy.optimize.minimize](https://docs.scipy.org/doc/scipy/reference/generated/scipy.optimize.minimize.html) for the classical minimization routine and choose your favorite method of optimization."
   ]
  },
  {
   "cell_type": "code",
   "execution_count": 362,
   "id": "9aac1fbf-a106-4c91-80f2-416f7fbf09dd",
   "metadata": {
    "ExecuteTime": {
     "end_time": "2024-03-14T15:21:01.883086700Z",
     "start_time": "2024-03-14T15:21:00.436175900Z"
    }
   },
   "outputs": [],
   "source": [
    "# SciPy minimizer routine\n",
    "from scipy.optimize import minimize\n",
    "import time\n",
    "\n",
    "start_time = time.time()\n",
    "\n",
    "selected_observable = observable_1      #CHANGE MANUALLY CAUSE I ONLY MADE IT FOR 1 OBSERVABLE AT TIME\n",
    "                                        #COULDNT FIGURE OUT ALL # AT ONCE AND KEPT GETTING AN ERROR ABOUT IT AND SO CONFUSED IF I DID IT HOW YOU WANTED\n",
    "\n",
    "method = 'Powell'  # Use the Powell algorithm\n",
    "# Define the cost function to be minimized\n",
    "cost_func = lambda params: cost_func_vqe(params, ansatz, selected_observable, estimator)\n",
    "\n",
    "# Minimize the cost function using the Powell algorithm\n",
    "result = minimize(cost_func, x0, method=method)\n",
    "\n",
    "end_time = time.time()\n",
    "execution_time = end_time - start_time"
   ]
  },
  {
   "cell_type": "code",
   "execution_count": 363,
   "id": "c5eef6dc-a9b5-4b1f-92d0-6d4a59c13523",
   "metadata": {
    "ExecuteTime": {
     "end_time": "2024-03-14T15:21:03.470293900Z",
     "start_time": "2024-03-14T15:21:03.438999700Z"
    }
   },
   "outputs": [
    {
     "data": {
      "text/plain": [
       " message: Optimization terminated successfully.\n",
       " success: True\n",
       "  status: 0\n",
       "     fun: -1.0\n",
       "       x: [ 3.142e+00]\n",
       "     nit: 2\n",
       "   direc: [[-1.874e-03]]\n",
       "    nfev: 29"
      ]
     },
     "execution_count": 363,
     "metadata": {},
     "output_type": "execute_result"
    }
   ],
   "source": [
    "result"
   ]
  },
  {
   "cell_type": "code",
   "execution_count": 364,
   "id": "2e6efefa-f650-4a27-b2e0-aaee8862a7ef",
   "metadata": {},
   "outputs": [],
   "source": [
    "#### Compare your result estimated from VQE with the exact solution"
   ]
  },
  {
   "cell_type": "code",
   "execution_count": 365,
   "id": "86217718-e1f0-40bd-b725-a12a1980813d",
   "metadata": {
    "ExecuteTime": {
     "end_time": "2024-03-14T15:21:04.821540700Z",
     "start_time": "2024-03-14T15:21:04.747725700Z"
    }
   },
   "outputs": [
    {
     "name": "stdout",
     "output_type": "stream",
     "text": [
      "Number of iterations: 29\n",
      "Time (s): 0.04357647895812988\n",
      "Percent error: 0.00e+00\n"
     ]
    }
   ],
   "source": [
    "from numpy.linalg import eigvalsh\n",
    "\n",
    "solution_eigenvalue = min(eigvalsh(observable_1.to_matrix()))\n",
    "experimental_min_eigenvalue = result.fun\n",
    "print(f\"\"\"Number of iterations: {result.nfev}\"\"\")\n",
    "print(f\"\"\"Time (s): {execution_time}\"\"\")\n",
    "print(\n",
    "    f\"Percent error: {abs((experimental_min_eigenvalue - solution_eigenvalue)/solution_eigenvalue):.2e}\"\n",
    ")\n"
   ]
  },
  {
   "cell_type": "markdown",
   "id": "b127238d-0239-46d2-af7b-648d69158cc0",
   "metadata": {},
   "source": [
    "## Task 5\n",
    "\n",
    "Answer the following questions about your implementation of VQE:\n",
    "1. What are the minimum eigenvalues as estimated by VQE for:\n",
    "$$\\hat{O}_1 = Z\n",
    "$$ \n",
    "\n",
    "$$\n",
    "\\hat{O}_2 = 2X\n",
    "$$ \n",
    "\n",
    "$$\n",
    "\\hat{O}_3 = X + 2Y + Z\n",
    "$$\n",
    "2. How  does switching between ansatze affect the estimated results and time taken?"
   ]
  },
  {
   "cell_type": "code",
   "execution_count": 366,
   "id": "987db170",
   "metadata": {},
   "outputs": [],
   "source": [
    "# 1.(have to manually swap out observables in task4)\n",
    "# observable_1 \n",
    "#  message: Optimization terminated successfully.\n",
    "#  success: True\n",
    "#   status: 0\n",
    "#      fun: -1.0\n",
    "#        x: [ 3.142e+00]\n",
    "#      nit: 2\n",
    "#    direc: [[-1.874e-03]]\n",
    "#     nfev: 29\n",
    "# The minimum eigenvalue from the result is -1.0. This value is provided in the fun i think?\n",
    "\n",
    "#  observable_2\n",
    "#   message: Optimization terminated successfully.\n",
    "#  success: True\n",
    "#   status: 0\n",
    "#      fun: 0.0\n",
    "#        x: [ 0.000e+00]\n",
    "#      nit: 1\n",
    "#    direc: [[ 1.000e+00]]\n",
    "#     nfev: 4\n",
    "#     its 0 or i did it wrong or am looking at the wrong thinkg lol\n",
    "\n",
    "# observable 3\n",
    "# message: Optimization terminated successfully.\n",
    "#  success: True\n",
    "#   status: 0\n",
    "#      fun: -2.23606797749979\n",
    "#        x: [ 2.034e+00]\n",
    "#      nit: 2\n",
    "#    direc: [[ 8.499e-05]]\n",
    "#     nfev: 37\n",
    "# eigenval for observablle 3 seems to be fun: -2.23606797749979 according to powell documentation fun is the returned float from the function minimization call? \n",
    "\n",
    "\n",
    "\n",
    "\n",
    "# 2.\n",
    "# I am not sure it only seems to be working correctly (low error) for obervable 1. please have mercy. Just realized that observable_1 is hard coded and thats why it \n",
    "# worked and the other didnt hehe ima leave that casue my brain so burnt out and its funny,\n",
    "\n",
    "# observable_1 results : \n",
    "# Number of iterations: 29\n",
    "# Time (s): 0.040932655334472656             LEAST TIME BEST RESULT\n",
    "# Percent error: 0.00e+00\n",
    "\n",
    "# (switch out to observable_2 in task 4 and tester)\n",
    "# Number of iterations: 4 \n",
    "# Time (s): 0.007519721984863281            MOST TIME WORST RESULT                         POSITIVE RELATIONSHIP BETWEEN TIME AND RESULTS?\n",
    "# Percent error: 1.00e+00\n",
    "# (jk got error high)\n",
    "\n",
    "# (switch out to observable_3 in task 4 and tester)\n",
    "# Number of iterations: 37\n",
    "# Time (s): 0.05729413032531738             MIDDLE TIME MIDDLE RESULTS\n",
    "# Percent error: 8.71e-02\n",
    "# (it seemed to work with observable_3, atleast way better then obs2 anyways)"
   ]
  },
  {
   "cell_type": "code",
   "execution_count": null,
   "id": "081d083c",
   "metadata": {},
   "outputs": [],
   "source": []
  },
  {
   "cell_type": "code",
   "execution_count": null,
   "id": "25eb2fea",
   "metadata": {},
   "outputs": [],
   "source": []
  },
  {
   "cell_type": "code",
   "execution_count": null,
   "id": "23b83924",
   "metadata": {},
   "outputs": [],
   "source": []
  }
 ],
 "metadata": {
  "kernelspec": {
   "display_name": "Python 3 (ipykernel)",
   "language": "python",
   "name": "python3"
  },
  "language_info": {
   "codemirror_mode": {
    "name": "ipython",
    "version": 3
   },
   "file_extension": ".py",
   "mimetype": "text/x-python",
   "name": "python",
   "nbconvert_exporter": "python",
   "pygments_lexer": "ipython3",
   "version": "3.11.5"
  }
 },
 "nbformat": 4,
 "nbformat_minor": 5
}
